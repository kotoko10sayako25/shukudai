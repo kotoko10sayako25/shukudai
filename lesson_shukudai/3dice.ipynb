{
  "nbformat": 4,
  "nbformat_minor": 0,
  "metadata": {
    "colab": {
      "provenance": []
    },
    "kernelspec": {
      "name": "python3",
      "display_name": "Python 3"
    },
    "language_info": {
      "name": "python"
    }
  },
  "cells": [
    {
      "cell_type": "code",
      "source": [
        "#サイコロver3\n",
        "import random\n",
        "\n",
        "def roll_dice():\n",
        "  nums = []\n",
        "  sum = 0      # ※\n",
        "\n",
        "  for i in range (1,16):\n",
        "    num = random.randint(1,6)             #1.サイコロ振る\n",
        "    print(f\"{i}回目の出目は{num}でした\")  #2.出た数字を表示\n",
        "\n",
        "    nums.append(num)  #3.出た数字をnumsリストに入れる\n",
        "  print(nums)         #  全部の数字を入れたnumsリストを表示\n",
        "\n",
        "  for num in nums:     #numsリストから一つづつ数字を取りだし\n",
        "    sum = sum + num    #リスト内の数字の合計を計算\n",
        "  print(f\"15回分の合計は{sum}です\")    #4.合計を表示\n",
        "  return sum\n",
        "\n",
        "if (roll_dice() >= 55):\n",
        "  print(f\"55以上なので高得点です\")"
      ],
      "metadata": {
        "colab": {
          "base_uri": "https://localhost:8080/"
        },
        "collapsed": true,
        "id": "qwjNTqCjBlRb",
        "outputId": "974ddb70-28c6-428a-e0b4-db6998e7884d"
      },
      "execution_count": 85,
      "outputs": [
        {
          "output_type": "stream",
          "name": "stdout",
          "text": [
            "1回目の出目は6でした\n",
            "2回目の出目は4でした\n",
            "3回目の出目は6でした\n",
            "4回目の出目は1でした\n",
            "5回目の出目は6でした\n",
            "6回目の出目は6でした\n",
            "7回目の出目は2でした\n",
            "8回目の出目は6でした\n",
            "9回目の出目は4でした\n",
            "10回目の出目は4でした\n",
            "11回目の出目は3でした\n",
            "12回目の出目は6でした\n",
            "13回目の出目は1でした\n",
            "14回目の出目は3でした\n",
            "15回目の出目は4でした\n",
            "[6, 4, 6, 1, 6, 6, 2, 6, 4, 4, 3, 6, 1, 3, 4]\n",
            "15回分の合計は62です\n",
            "55以上なので高得点です\n"
          ]
        }
      ]
    },
    {
      "cell_type": "code",
      "execution_count": 64,
      "metadata": {
        "colab": {
          "base_uri": "https://localhost:8080/"
        },
        "id": "MzZzEwHM7F0m",
        "outputId": "a2f06b4c-86a8-4abf-a91f-55cc691d7ec6"
      },
      "outputs": [
        {
          "output_type": "stream",
          "name": "stdout",
          "text": [
            "1回目の出目は4でした\n",
            "2回目の出目は5でした\n",
            "3回目の出目は5でした\n",
            "4回目の出目は2でした\n",
            "[4, 5, 5, 2]\n",
            "合計は16です\n",
            "15点以上なので高得点です\n"
          ]
        }
      ],
      "source": [
        "#サイコロver2\n",
        "\n",
        "import random\n",
        "\n",
        "def roll_dice():\n",
        "  nums = []\n",
        "  sum = 0 #※\n",
        "  for i in range (1,5):\n",
        "    num = random.randint(1,6)             #1.サイコロ振る\n",
        "    print(f\"{i}回目の出目は{num}でした\")  #2.出た数字を表示\n",
        "    nums.append(num)  #3.出た数字をリストに入れる\n",
        "  print(nums)         #  全部の数字を入れたリストを表示\n",
        "\n",
        "  for num in nums:     #リストから一つづつ数字を取りだし\n",
        "    sum = sum + num    #リストの数字の合計を計算\n",
        "  print(f\"合計は{sum}です\")    #4.合計を表示\n",
        "  if sum >= 15:\n",
        "    print(f\"15点以上なので高得点です\")\n",
        "\n",
        "roll_dice()\n"
      ]
    },
    {
      "cell_type": "code",
      "source": [
        "#サイコロver1\n",
        "import random\n",
        "nums = []\n",
        "sum = 0\n",
        "\n",
        "for i in range (1,5):\n",
        "  num = random.randint(1,6)             #1.サイコロ振る\n",
        "  print(f\"{i}回目の出目は{num}でした\")  #2.出た数字を表示\n",
        "  nums.append(num)  #3.出た数字をリストに入れる\n",
        "print(nums)         #  全部の数字を入れたリストを表示\n",
        "\n",
        "for num in nums:     #リストから一つづつ数字を取りだし\n",
        "  sum = sum + num    #リストの数字の合計を計算\n",
        "print(f\"合計は{sum}です\")    #4.合計を表示\n",
        "if sum >= 15:\n",
        "  print(f\"15点以上なので高得点です\") #5.\n",
        "\n",
        "#①サイコロを振る、②出目の文字出力(〇回目の出目はnumでした)、\n",
        "#③15回分の結果をリストに入れる、④15回分の合計値を出力、⑤if"
      ],
      "metadata": {
        "colab": {
          "base_uri": "https://localhost:8080/"
        },
        "id": "qdXv8diLB-Kt",
        "outputId": "7d9ad616-a55c-4e99-8a84-ee6e92bc22b1"
      },
      "execution_count": 42,
      "outputs": [
        {
          "output_type": "stream",
          "name": "stdout",
          "text": [
            "1回目の出目は2でした\n",
            "2回目の出目は3でした\n",
            "3回目の出目は6でした\n",
            "4回目の出目は6でした\n",
            "[2, 3, 6, 6]\n",
            "合計は17です\n",
            "15点以上なので高得点です\n"
          ]
        }
      ]
    }
  ]
}