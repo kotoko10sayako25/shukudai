{
  "nbformat": 4,
  "nbformat_minor": 0,
  "metadata": {
    "colab": {
      "provenance": []
    },
    "kernelspec": {
      "name": "python3",
      "display_name": "Python 3"
    },
    "language_info": {
      "name": "python"
    }
  },
  "cells": [
    {
      "cell_type": "code",
      "execution_count": 4,
      "metadata": {
        "colab": {
          "base_uri": "https://localhost:8080/"
        },
        "id": "qTn6yyADylnw",
        "outputId": "92043401-ee20-4440-aab8-da21effe0b46"
      },
      "outputs": [
        {
          "output_type": "stream",
          "name": "stdout",
          "text": [
            "[0. 0. 0. 0. 0. 0. 0. 0. 0. 0.]\n",
            "[1. 1. 1. 1. 1.]\n",
            "[ 1  2  3  4  5  6  7  8  9 10]\n"
          ]
        }
      ],
      "source": [
        "# 1. 要素が 0 の一次元配列（長さ10）を作る\n",
        "import numpy as np    # NumPyライブラリをインポート\n",
        "nzeros = np.zeros(10)\n",
        "print(nzeros)\n",
        "\n",
        "\n",
        "# 2. 要素がすべて 1 の配列（長さ5）を作る\n",
        "nones = np.ones(5)\n",
        "print(nones)\n",
        "\n",
        "\n",
        "# 3. 1から10までの整数が順番に入った配列を作る\n",
        "ten_arrs = np.arange(1, 11)\n",
        "print(ten_arrs)\n"
      ]
    },
    {
      "cell_type": "code",
      "source": [
        "#4. 1番の配列 の5番目の要素を100に変更\n",
        "# nzeros =  0 の一次元配列（長さ10）\n",
        "nzeros[4] = 100  # インデックス4（5番目の要素）に100を代入\n",
        "print(nzeros)\n",
        "\n",
        "\n",
        "# 5. 3番の配列（1〜10）を逆順にする\n",
        "# ten_arrs = 1から10までの整数が順番に入った配列\n",
        "ten_reverse = ten_arrs[::-1]\n",
        "print(ten_reverse)\n"
      ],
      "metadata": {
        "colab": {
          "base_uri": "https://localhost:8080/"
        },
        "id": "zo3opM0gy51t",
        "outputId": "550f6b60-b2c6-448a-9025-8070c5c1534f"
      },
      "execution_count": 6,
      "outputs": [
        {
          "output_type": "stream",
          "name": "stdout",
          "text": [
            "[  0.   0.   0.   0. 100.   0.   0.   0.   0.   0.]\n",
            "[10  9  8  7  6  5  4  3  2  1]\n"
          ]
        }
      ]
    },
    {
      "cell_type": "code",
      "source": [
        "# 6. 配列 [1, 2, 3] を3×3の行列に変換\n",
        "multi_array = np.array([[1, 2, 3],[1, 2, 3],[1, 2, 3]])  #  [1, 2, 3]は1行分の一次元配列データ\n",
        "print(multi_array)"
      ],
      "metadata": {
        "colab": {
          "base_uri": "https://localhost:8080/"
        },
        "id": "yDEbuFh1ypq-",
        "outputId": "3efbb25e-87e3-463b-fe73-3fa772b451ab"
      },
      "execution_count": 7,
      "outputs": [
        {
          "output_type": "stream",
          "name": "stdout",
          "text": [
            "[[1 2 3]\n",
            " [1 2 3]\n",
            " [1 2 3]]\n"
          ]
        }
      ]
    },
    {
      "cell_type": "code",
      "source": [
        "# 7. [1, 2, 3] と [4, 5, 6] の要素ごとの和\n",
        "a = np.array([1, 2, 3])\n",
        "b = np.array([4, 5, 6])\n",
        "c_sum = a + b\n",
        "print(c_sum)"
      ],
      "metadata": {
        "colab": {
          "base_uri": "https://localhost:8080/"
        },
        "id": "nxrJRJBUyriF",
        "outputId": "1529aa95-3daf-4d09-dae4-a19c31590cfa"
      },
      "execution_count": 8,
      "outputs": [
        {
          "output_type": "stream",
          "name": "stdout",
          "text": [
            "[5 7 9]\n"
          ]
        }
      ]
    },
    {
      "cell_type": "code",
      "source": [
        "# 8. 3×3のランダム行列の各行の平均\n",
        "nums = np.random.randint(1,10,(3,3))\n",
        "print(f\"{nums}\\n\")\n",
        "\n",
        "nums_ave = np.mean(nums, axis = 1)    # np.meanで平均値 を計算。axis=1 は「行ごとに計算する」という意味\n",
        "print(nums_ave)"
      ],
      "metadata": {
        "colab": {
          "base_uri": "https://localhost:8080/"
        },
        "id": "OfqkWJ68zW_Y",
        "outputId": "3a79c789-5e5c-479d-9eb0-a73a65d3428e"
      },
      "execution_count": 9,
      "outputs": [
        {
          "output_type": "stream",
          "name": "stdout",
          "text": [
            "[[7 8 9]\n",
            " [5 5 8]\n",
            " [6 9 1]]\n",
            "\n",
            "[8.         6.         5.33333333]\n"
          ]
        }
      ]
    },
    {
      "cell_type": "code",
      "source": [
        "# 9. 1から9の整数を含む3×3の行列を転置(メソッドがあります)\n",
        "arrs = np.array ([[1, 2, 3], [4, 5, 6], [7, 8, 9]])\n",
        "arrs_t = arrs.T   # arrs.T は 行と列を入れ替えた配列（転置）にする\n",
        "arrs_t"
      ],
      "metadata": {
        "colab": {
          "base_uri": "https://localhost:8080/"
        },
        "id": "uknpIe-YzZXm",
        "outputId": "9f8e7eaa-6df5-4016-8c1d-2b46965f346f"
      },
      "execution_count": 10,
      "outputs": [
        {
          "output_type": "execute_result",
          "data": {
            "text/plain": [
              "array([[1, 4, 7],\n",
              "       [2, 5, 8],\n",
              "       [3, 6, 9]])"
            ]
          },
          "metadata": {},
          "execution_count": 10
        }
      ]
    }
  ]
}