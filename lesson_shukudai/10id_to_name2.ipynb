{
  "nbformat": 4,
  "nbformat_minor": 0,
  "metadata": {
    "colab": {
      "provenance": []
    },
    "kernelspec": {
      "name": "python3",
      "display_name": "Python 3"
    },
    "language_info": {
      "name": "python"
    }
  },
  "cells": [
    {
      "cell_type": "code",
      "execution_count": 10,
      "metadata": {
        "colab": {
          "base_uri": "https://localhost:8080/"
        },
        "id": "giuCd37emEtK",
        "outputId": "2612c8fd-5523-408c-8be2-016549db48be"
      },
      "outputs": [
        {
          "output_type": "stream",
          "name": "stdout",
          "text": [
            "IDを入力:05\n",
            "ID:05 の名前は 山下 です\n"
          ]
        }
      ],
      "source": [
        "def id_to_name(id):\n",
        "    id_dates = {\"01\": \"山田\", \"02\": \"高橋\", \"03\": \"森\", \"04\": \"藤井\", \"05\": \"山下\"}\n",
        "    return f\"ID:{id} の名前は {id_dates[id]} です\"\n",
        "\n",
        "print(id_to_name(id = input(\"IDを入力:\")))"
      ]
    }
  ]
}