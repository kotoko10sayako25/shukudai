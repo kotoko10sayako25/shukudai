{
  "nbformat": 4,
  "nbformat_minor": 0,
  "metadata": {
    "colab": {
      "provenance": []
    },
    "kernelspec": {
      "name": "python3",
      "display_name": "Python 3"
    },
    "language_info": {
      "name": "python"
    }
  },
  "cells": [
    {
      "cell_type": "code",
      "source": [
        "#2 book_class\n",
        "import random #ランダムに数字を生成する\n",
        "\n",
        "#classの作成\n",
        "class Product:\n",
        "    #コンストラクタの定義\n",
        "    def __init__(self, name, stock_before, price):  #インスタンス化で使う属性の初期設定をする（名前、値段、開店前の在庫数）\n",
        "        self.name = name\n",
        "        self.price = price\n",
        "        self.stock_before = stock_before #開店前在庫数\n",
        "\n",
        "    #「在庫数を更新する」メソッドを定義\n",
        "    def update_stock(self):\n",
        "        sales_volume     = random.randint(0,50)             # 売上数をランダムに生成\n",
        "        self.stock_after = self.stock_before - sales_volume # 閉店後在庫数 = 開店前在庫数 - 売上数\n",
        "        self.revenue     = sales_volume * self.price        # 売上金額 = 売上数 * 価格\n",
        "\n",
        "        print(f\"{self.name}：開店前在庫数{self.stock_before} - 売上数{sales_volume} = 在庫数{self.stock_after}  売上高:{self.revenue}円\")\n",
        "\n",
        "    # def show_data(self):　　　　#在庫が更新されたか確認のためのメソッド\n",
        "    #     return f\"{self.name, self.stock_after, self.price}\"\n",
        "\n",
        "#クラスを元にインスタンス化。#initで設定した属性（名前、前在庫数、値段）に最初の情報を入力\n",
        "onepiece = Product(\"ONE PIECE\",100,500)\n",
        "spy      = Product(\"SPY×FAMILY\",100,600)\n",
        "kingdom  = Product(\"キングダム\",100,700)\n",
        "medalist = Product(\"メダリスト\",100,800)\n",
        "\n",
        "#「在庫数を更新する」という処理をそれぞれの本で行う\n",
        "onepiece.update_stock()\n",
        "spy.update_stock()\n",
        "kingdom.update_stock()\n",
        "medalist.update_stock()\n",
        "\n",
        "# print(one_piece.show_data()) #在庫更新確認のための出力\n",
        "# print(spy_family.show_data())\n",
        "# print(kingdom.show_data())\n",
        "# print(medalist.show_data())\n",
        "\n",
        "#商品名と売上高の辞書（キーと値）を作る\n",
        "book_amounts = {onepiece.name : onepiece.revenue,\n",
        "                spy.name      : spy.revenue,\n",
        "                kingdom.name  : kingdom.revenue,\n",
        "                medalist.name : medalist.revenue\n",
        "               }\n",
        "#print(book_amounts)\n",
        "max_key = max(book_amounts, key = book_amounts.get) # 売上が一番多い本の名前\n",
        "max_value = book_amounts[max_key] #一番多い売上高\n",
        "print(f\"一番売上高が高かったのは{max_key}で、{max_value}円です\")\n"
      ],
      "metadata": {
        "colab": {
          "base_uri": "https://localhost:8080/"
        },
        "id": "7yt2IO1RN-2D",
        "outputId": "d9c17229-1c6e-486d-96bd-91f98b7d119e"
      },
      "execution_count": null,
      "outputs": [
        {
          "output_type": "stream",
          "name": "stdout",
          "text": [
            "ONE PIECE：開店前在庫数100 - 売上数16 = 在庫数84  売上高:8000円\n",
            "SPY×FAMILY：開店前在庫数100 - 売上数21 = 在庫数79  売上高:12600円\n",
            "キングダム：開店前在庫数100 - 売上数44 = 在庫数56  売上高:30800円\n",
            "メダリスト：開店前在庫数100 - 売上数12 = 在庫数88  売上高:9600円\n",
            "一番売上高が高かったのはキングダムで、30800円です\n"
          ]
        }
      ]
    },
    {
      "cell_type": "code",
      "source": [
        "#「在庫数を更新する定義」\n",
        "import random\n",
        "\n",
        "#商品名、在庫数、価格を辞書に入れる\n",
        "inventory = {\"one_piece\" :{\"name\":\"ONE PIECE  \", \"stock\":100, \"price\":500},\n",
        "             \"spy_family\":{\"name\":\"SPY×FAMILY\", \"stock\":100, \"price\":500},\n",
        "             \"kingdom\"   :{\"name\":\"キングダム \", \"stock\":100, \"price\":500},\n",
        "             \"medalist\"  :{\"name\":\"メダリスト \", \"stock\":100, \"price\":500}\n",
        "            }\n",
        "\n",
        "new_inventory = {} #新しい在庫数を入れるため、新しいリストを用意\n",
        "for key,value in inventory.items(): #辞書を繰り返し処理する\n",
        "    sales_volume = random.randint(0,50) #売上数をランダムに生成\n",
        "\n",
        "    #   在庫数     = 開店時在庫数   -   売上数\n",
        "    stock_quantity = value[\"stock\"] - sales_volume\n",
        "\n",
        "    #  売上金額  =    売上数    *  価格\n",
        "    sales_amount = sales_volume * value['price']\n",
        "    print(f\"{value['name']}：開店前在庫数{value['stock']} - 売上数{sales_volume} = 在庫数{stock_quantity}  売上高:{sales_amount}円\")\n",
        "\n",
        "#     new_inventory[key] = {\"name\" :value['name'],\n",
        "#                           \"stock\":stock_quantity,\n",
        "#                           \"price\":value['price']\n",
        "#                          }\n",
        "#     #print(new_inventory) #各データを貯めていく\n",
        "# inventory = new_inventory\n",
        "# print(inventory) # inventoryに上書きする"
      ],
      "metadata": {
        "colab": {
          "base_uri": "https://localhost:8080/"
        },
        "id": "2R1VSGzNKZVS",
        "outputId": "799edc34-0b4c-44ec-cc91-07f3bdfc435f"
      },
      "execution_count": null,
      "outputs": [
        {
          "output_type": "stream",
          "name": "stdout",
          "text": [
            "ONE PIECE  ：開店前在庫数100 - 売上数6 = 在庫数94  売上高:3000円\n",
            "SPY×FAMILY：開店前在庫数100 - 売上数32 = 在庫数68  売上高:16000円\n",
            "キングダム ：開店前在庫数100 - 売上数42 = 在庫数58  売上高:21000円\n",
            "メダリスト ：開店前在庫数100 - 売上数21 = 在庫数79  売上高:10500円\n"
          ]
        }
      ]
    }
  ]
}