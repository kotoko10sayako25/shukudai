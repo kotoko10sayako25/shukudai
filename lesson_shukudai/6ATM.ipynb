{
  "nbformat": 4,
  "nbformat_minor": 0,
  "metadata": {
    "colab": {
      "provenance": []
    },
    "kernelspec": {
      "name": "python3",
      "display_name": "Python 3"
    },
    "language_info": {
      "name": "python"
    }
  },
  "cells": [
    {
      "cell_type": "code",
      "source": [
        "# 銀行ATMシステム\n",
        "class BankAccount: # classの作成\n",
        "    def __init__(self, owner, balance): # インスタンス化で使う属性の設定をする\n",
        "        self.owner   = owner   # 口座所有者\n",
        "        self.balance = balance # 残高\n",
        "\n",
        "    # メソッド3種を定義\n",
        "    def deposit(self, amount):  # 入金\n",
        "        old_balance = self.balance # 取引前残高を old_balanceに代入\n",
        "        self.balance += amount     # 取引前残高 + 引数 = 取引後残高\n",
        "        return (f\"{self.owner}さんの口座：取引前金額{old_balance:,}円。\\n{amount:,}円入金しました。現在の残高は{self.balance:,}円です\\n\")\n",
        "\n",
        "    def withdraw(self, amount): # 出金\n",
        "        old_balance = self.balance\n",
        "        self.balance -= amount      # 取引前残高 - 引数 = 取引後残高\n",
        "        return f\"{self.owner}さんの口座：取引前金額{old_balance:,}円。\\n{amount:,}円出金しました。現在の残高は{self.balance:,}円です\\n\"\n",
        "\n",
        "    def check_balance(self):   # 残高確認のメソッド\n",
        "        return f\"{self.owner}さんの口座：現在の残高は{self.balance:,}円です\"\n",
        "\n",
        "\n",
        "# クラスを元にインスタンス化。#initで設定した属性（口座所有者、残高）に最初の情報を入力\n",
        "satou  = BankAccount(\"佐藤\", 100_000) # 名前は佐藤さん、最初の額は10万円\n",
        "suzuki = BankAccount(\"鈴木\",  50_000)\n",
        "tanaka = BankAccount(\"田中\",  10_000)\n",
        "\n",
        "# 入金、出金、残高確認メソッドの処理をそれぞれで行う\n",
        "print(satou.deposit ( 50_000)) # 5万入金\n",
        "                               # ※satou.データには（名前、最初の残高）の情報が入っている\n",
        "                               # さらに外から追加の情報を渡して処理したいので引数（5万）を記入。\n",
        "\n",
        "print(suzuki.withdraw(30_000)) #3 万出金\n",
        "\n",
        "print(tanaka.deposit ( 50_000))# 5万入金\n",
        "print(tanaka.withdraw( 10_000))# 1万出金\n",
        "print(tanaka.check_balance ())\n",
        "\n"
      ],
      "metadata": {
        "colab": {
          "base_uri": "https://localhost:8080/"
        },
        "id": "CnasvTGowGBH",
        "outputId": "34efb86c-7dd5-4852-edc1-5eb985121d8a"
      },
      "execution_count": 10,
      "outputs": [
        {
          "output_type": "stream",
          "name": "stdout",
          "text": [
            "佐藤さんの口座：取引前金額100,000円。\n",
            "50,000円入金しました。現在の残高は150,000円です\n",
            "\n",
            "鈴木さんの口座：取引前金額50,000円。\n",
            "30,000円出金しました。現在の残高は20,000円です\n",
            "\n",
            "田中さんの口座：取引前金額10,000円。\n",
            "50,000円入金しました。現在の残高は60,000円です\n",
            "\n",
            "田中さんの口座：取引前金額60,000円。\n",
            "10,000円出金しました。現在の残高は50,000円です\n",
            "\n",
            "田中さんの口座：現在の残高は50,000円です\n"
          ]
        }
      ]
    },
    {
      "cell_type": "code",
      "source": [],
      "metadata": {
        "id": "lVX7N11UBXvE"
      },
      "execution_count": null,
      "outputs": []
    }
  ]
}