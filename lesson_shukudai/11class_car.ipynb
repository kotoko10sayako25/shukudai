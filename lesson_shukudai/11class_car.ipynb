{
  "nbformat": 4,
  "nbformat_minor": 0,
  "metadata": {
    "colab": {
      "provenance": []
    },
    "kernelspec": {
      "name": "python3",
      "display_name": "Python 3"
    },
    "language_info": {
      "name": "python"
    }
  },
  "cells": [
    {
      "cell_type": "code",
      "source": [
        "# 車のクラス\n",
        "class Car: # classの作成\n",
        "    def __init__(self, brand, model, year, speed): # インスタンス化で使う属性の設定をする\n",
        "        self.brand = brand # メーカー\n",
        "        self.model = model # モデル\n",
        "        self.year  = year  # 年式\n",
        "        self.speed = speed # 速度\n",
        "\n",
        "    # メソッド3種を定義\n",
        "    def accelerate(self):    # 速度を10増やす\n",
        "        self.speed += 10\n",
        "        return f\"加速：{self.brand}、{self.model}の現在の速さ、{self.speed}km/s。\"\n",
        "\n",
        "    def brake(self):         # 速度を10減らす\n",
        "         self.speed -= 10\n",
        "         return f\"減速：{self.brand}、{self.model}の現在の速さ、{self.speed}km/s。\"\n",
        "\n",
        "    def  display_info(self):  # 車の情報を表示\n",
        "        return f\"{self.brand}、{self.model}({self.year}年式）の現在の速度は、{self.speed}km/sです。\\n\"\n",
        "\n",
        "# クラスを元にインスタンス化。initで設定した属性に最初の情報を入力\n",
        "prius = Car(\"トヨタ\", \"プリウス\",    \"2022\", 0) # 最初の速度は0\n",
        "fit   = Car(\"ホンダ\", \"フィット\",    \"2021\", 0)\n",
        "sky  = Car(\"日産\", \"スカイライン\",  \"2020\", 0)\n",
        "\n",
        "# 各車の処理をそれぞれで行う\n",
        "print(prius.accelerate())\n",
        "print(prius.brake())\n",
        "print(prius.display_info())\n",
        "\n",
        "print(fit.accelerate())\n",
        "print(fit.accelerate())\n",
        "print(fit.brake())\n",
        "print(fit.display_info())\n",
        "\n",
        "print(sky.accelerate())\n",
        "print(sky.accelerate())\n",
        "print(sky.brake())\n",
        "print(sky.accelerate())\n",
        "print(sky.display_info())"
      ],
      "metadata": {
        "colab": {
          "base_uri": "https://localhost:8080/"
        },
        "id": "4tdLn9ksluBy",
        "outputId": "5d3bbd90-f9ad-448a-ce26-bd0e25c6dd30"
      },
      "execution_count": 1,
      "outputs": [
        {
          "output_type": "stream",
          "name": "stdout",
          "text": [
            "加速：トヨタ、プリウスの現在の速さ、10km/s。\n",
            "減速：トヨタ、プリウスの現在の速さ、0km/s。\n",
            "トヨタ、プリウス(2022年式）の現在の速度は、0km/sです。\n",
            "\n",
            "加速：ホンダ、フィットの現在の速さ、10km/s。\n",
            "加速：ホンダ、フィットの現在の速さ、20km/s。\n",
            "減速：ホンダ、フィットの現在の速さ、10km/s。\n",
            "ホンダ、フィット(2021年式）の現在の速度は、10km/sです。\n",
            "\n",
            "加速：日産、スカイラインの現在の速さ、10km/s。\n",
            "加速：日産、スカイラインの現在の速さ、20km/s。\n",
            "減速：日産、スカイラインの現在の速さ、10km/s。\n",
            "加速：日産、スカイラインの現在の速さ、20km/s。\n",
            "日産、スカイライン(2020年式）の現在の速度は、20km/sです。\n",
            "\n"
          ]
        }
      ]
    },
    {
      "cell_type": "code",
      "source": [
        "# 車のクラス(加速と減速を乱数で出す)\n",
        "import random\n",
        "\n",
        "class Car: # classの作成\n",
        "    def __init__(self, brand, model, year, speed): # インスタンス化で使う属性の設定をする\n",
        "        self.brand = brand # メーカー\n",
        "        self.model = model # モデル\n",
        "        self.year  = year  # 年式\n",
        "        self.speed = speed # 速度\n",
        "\n",
        "    # メソッド3種を定義\n",
        "    def accelerate(self):                     # 速度を10増やす\n",
        "        self.ac_repeat = random.randint(1,10) #「速度を10増やす」回数をランダムに。他でも使いたい場合はselfをつける\n",
        "        #for i in range(self.ac_repeat):\n",
        "        self.speed += 10 * self.ac_repeat\n",
        "        return f\"加速{self.ac_repeat}回：{self.brand}、{self.model}の現在の速さ、{self.speed}km/s。\"\n",
        "\n",
        "    def brake(self):                      # 速度を10減らす\n",
        "        bk_repeat = random.randint(0, 10) # 終了値self.ac_repeatでもいいが、whileの練習をしたい\n",
        "        #print(bk_repeat)\n",
        "        while self.ac_repeat < bk_repeat: # アクセル回数より < ブレーキ回数が多かったらもう一回\n",
        "            bk_repeat = random.randint(0,10)\n",
        "            #print(bk_repeat)\n",
        "        #for i in range(bk_repeat):\n",
        "        self.speed -= 10 * bk_repeat     # 速度を10減らす\n",
        "        return f\"減速{bk_repeat}回：{self.brand}、{self.model}の現在の速さ、{self.speed}km/s。\"\n",
        "\n",
        "    def  display_info(self):  # 車の情報を表示\n",
        "        return f\"{self.brand}、{self.model}({self.year}年式）の現在の速度は、{self.speed}km/sです。\\n\"\n",
        "\n",
        "# クラスを元にインスタンス化。initで設定した属性に最初の情報を入力\n",
        "prius = Car(\"トヨタ\", \"プリウス\",   \"2022\", 0) # 最初の速度は0\n",
        "fit   = Car(\"ホンダ\", \"フィット\",   \"2021\", 0)\n",
        "sky  = Car(\"日産\", \"スカイライン\",  \"2020\", 0)\n",
        "\n",
        "# 各車の処理をそれぞれで行う\n",
        "print(prius.accelerate())\n",
        "print(prius.brake())\n",
        "print(prius.display_info())\n",
        "\n",
        "print(fit.accelerate())\n",
        "print(fit.brake())\n",
        "print(fit.display_info())\n",
        "\n",
        "print(sky.accelerate())\n",
        "print(sky.brake())\n",
        "print(sky.display_info())\n"
      ],
      "metadata": {
        "colab": {
          "base_uri": "https://localhost:8080/"
        },
        "id": "9VGYWi1y715S",
        "outputId": "219834ef-ff22-4cbd-8381-f26d10d98a90"
      },
      "execution_count": 22,
      "outputs": [
        {
          "output_type": "stream",
          "name": "stdout",
          "text": [
            "加速7回：トヨタ、プリウスの現在の速さ、70km/s。\n",
            "減速2回：トヨタ、プリウスの現在の速さ、50km/s。\n",
            "トヨタ、プリウス(2022年式）の現在の速度は、50km/sです。\n",
            "\n",
            "加速8回：ホンダ、フィットの現在の速さ、80km/s。\n",
            "減速4回：ホンダ、フィットの現在の速さ、40km/s。\n",
            "ホンダ、フィット(2021年式）の現在の速度は、40km/sです。\n",
            "\n",
            "加速10回：日産、スカイラインの現在の速さ、100km/s。\n",
            "減速1回：日産、スカイラインの現在の速さ、90km/s。\n",
            "日産、スカイライン(2020年式）の現在の速度は、90km/sです。\n",
            "\n"
          ]
        }
      ]
    },
    {
      "cell_type": "code",
      "source": [],
      "metadata": {
        "id": "YvYjE2ewOTAd"
      },
      "execution_count": null,
      "outputs": []
    }
  ]
}