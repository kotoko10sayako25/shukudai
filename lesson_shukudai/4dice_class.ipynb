{
  "cells": [
    {
      "cell_type": "code",
      "execution_count": 40,
      "metadata": {
        "colab": {
          "base_uri": "https://localhost:8080/"
        },
        "id": "_hIkWGi2k71m",
        "outputId": "1eed14ca-77df-471e-ec04-3793ca996a33"
      },
      "outputs": [
        {
          "name": "stdout",
          "output_type": "stream",
          "text": [
            "赤: [2, 4, 6, 6, 4, 5, 3, 5, 1, 1, 5, 1, 5, 3, 1]\n",
            "赤の合計: 52\n",
            "青: [2, 3, 6, 6, 5, 4, 6, 2, 1, 3, 4, 4, 6, 1, 2]\n",
            "青の合計: 55\n",
            "黄: [4, 2, 3, 6, 4, 3, 2, 2, 1, 4, 2, 2, 5, 4, 6]\n",
            "黄の合計: 50\n",
            "一番合計値が大きいのは青色です\n"
          ]
        }
      ],
      "source": [
        "#3　class\n",
        "import random #ランダムに数字を生成する\n",
        "\n",
        "#クラス（設計図）を定義\n",
        "class Dice:\n",
        "\n",
        "  # コンストラクタの定義\n",
        "  def __init__(self,color): #インスタンス化で使うものの初期設定をする\n",
        "      self.nums = [] #出た目を貯めるリストを作成\n",
        "      self.sum = 0   #出た目を合計するsumを作成。最初は0\n",
        "      self.color = color # サイコロの色を記録\n",
        "\n",
        "  # 「サイコロを1回ふる」メソッドを定義\n",
        "  def roll_dice(self):\n",
        "      num = random.randint(1,6)\n",
        "      return num\n",
        "\n",
        "  # 「サイコロを振り、出目をリストと合計に追加」を×5回を行う、メソッドを定義\n",
        "  def times(self):\n",
        "      x = 15\n",
        "      for i in range(x):\n",
        "          num = self.roll_dice()\n",
        "          self.nums.append(num)\n",
        "          self.sum += num\n",
        "\n",
        "      print(f\"{self.color}: {self.nums}\")      #それぞれのサイコロの出目のリストを表示\n",
        "      print(f\"{self.color}の合計: {self.sum}\") #それぞれの出目の合計を表示\n",
        "\n",
        "# クラスをもとにインスタンス化：赤、青、黄のサイコロ3つつくる\n",
        "red = Dice(\"赤\")\n",
        "blue = Dice(\"青\")\n",
        "yellow = Dice(\"黄\")\n",
        "\n",
        " # 「サイコロを振り、出目をリストと合計に追加」を5回行う、という処理をそれぞれのサイコロで行います。\n",
        "red.times()\n",
        "blue.times()\n",
        "yellow.times()\n",
        "\n",
        "#色と合計値の辞書（キーと値）を作る\n",
        "sum_list = {red.color : red.sum, blue.color : blue.sum, yellow.color : yellow.sum}\n",
        "#print(sum_list)\n",
        "max_value = max(sum_list, key=sum_list.get)  # sum_list：調べたい対象\n",
        "                                             # key=sum_list.get：値（red.sumなど合計値）で比べて、一番大きいキー（色）を返してくれる\n",
        "print(f\"一番合計値が大きいのは{max_value}色です\")\n"
      ]
    },
    {
      "cell_type": "code",
      "execution_count": 12,
      "metadata": {
        "colab": {
          "base_uri": "https://localhost:8080/"
        },
        "id": "jVR3B5z7k5yI",
        "outputId": "aad35f54-074f-4025-d2eb-3d989813e1a3"
      },
      "outputs": [
        {
          "name": "stdout",
          "output_type": "stream",
          "text": [
            "1回目の出目は3でした\n",
            "2回目の出目は3でした\n",
            "3回目の出目は4でした\n",
            "4回目の出目は4でした\n",
            "5回目の出目は3でした\n",
            "[3, 3, 4, 4, 3]\n",
            "5回分の合計は17です\n"
          ]
        }
      ],
      "source": [
        "#2　定義2つにわけた 　①定義「サイコロを振る」、②定義「サイコロを振る」、「リストと合計を追加」×5回行う\n",
        "import random\n",
        "\n",
        "def roll_dice(): # ①「サイコロを振る」処理の関数を定義\n",
        "  num = random.randint(1,6) #サイコロを振って出た目をnumに入れる\n",
        "  return num                #numを返す\n",
        "\n",
        "def times():     # ②「サイコロを振り、リストと合計に追加」5回行う処理\n",
        "  nums = [] #出た目numを貯めるリストnumsを作成\n",
        "  sum = 0   #出た目mumを合計するsumを作成。最初は0\n",
        "  x = 5\n",
        "\n",
        "  for i in range(x):  # 5回繰り返す\n",
        "      num = roll_dice() #「サイコロを振る関数」をnumに入れる\n",
        "      print(f\"{i+1}回目の出目は{num}でした\")\n",
        "\n",
        "      nums.append(num)  # 出目をnumsリストに追加する\n",
        "      sum = sum + num   # 出目を次々足していく\n",
        "  return nums, sum  # ※1　関数から、結果に出力したいnumsとsumを返す\n",
        "\n",
        "nums, sum = times()  # ※2　times()関数を実行。関数の戻り値をnumsとsumに代入。\n",
        "                     #結果に出力したいのはnumsとsum。times()関数からnumsとsumを返し（※1）、\n",
        "                     #times()関数の戻り値(numsとsum)を、numsとsumに代入（※2）\n",
        "\n",
        "print(nums)\n",
        "print(f\"5回分の合計は{sum}です\")"
      ]
    },
    {
      "cell_type": "code",
      "execution_count": 2,
      "metadata": {
        "colab": {
          "base_uri": "https://localhost:8080/"
        },
        "id": "fQbQfu0ckMd9",
        "outputId": "9b375035-d073-4004-a3bb-6c8c6ec61f26"
      },
      "outputs": [
        {
          "name": "stdout",
          "output_type": "stream",
          "text": [
            "1回目の出目は1でした\n",
            "2回目の出目は5でした\n",
            "3回目の出目は4でした\n",
            "4回目の出目は6でした\n",
            "5回目の出目は5でした\n",
            "[1, 5, 4, 6, 5]\n",
            "5回分の合計は21です\n"
          ]
        }
      ],
      "source": [
        "#1：元data　　定義「サイコロを振る」と「出目をリストと合計に追加」、、を5回行う\n",
        "import random\n",
        "nums = [] #出た目numを貯めるリストnumsを作成\n",
        "sum = 0   #出た目mumを合計するsumを作成。最初は0\n",
        "x = 5\n",
        "\n",
        "def roll_dice(): # ①「サイコロを振る」処理の関数を定義\n",
        "  num = random.randint(1,6) # サイコロを振って出た目をnumに入れる\n",
        "  return num                # numを下へ返す\n",
        "\n",
        "for i in range(x):  # ②下記を5回繰り返す\n",
        "  num = roll_dice()     # 「サイコロを振る処理の関数」をnumに入れる\n",
        "  print(f\"{i+1}回目の出目は{num}でした\")\n",
        "\n",
        "  nums.append(num)      # 出目をnumsリストに追加する\n",
        "  sum = sum + num       # 出目を次々足していく\n",
        "\n",
        "print(nums)\n",
        "print(f\"5回分の合計は{sum}です\")"
      ]
    }
  ],
  "metadata": {
    "colab": {
      "provenance": []
    },
    "kernelspec": {
      "display_name": "Python 3",
      "name": "python3"
    },
    "language_info": {
      "name": "python"
    }
  },
  "nbformat": 4,
  "nbformat_minor": 0
}
